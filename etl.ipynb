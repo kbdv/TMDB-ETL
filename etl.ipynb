{
 "cells": [
  {
   "cell_type": "code",
   "execution_count": null,
   "metadata": {},
   "outputs": [],
   "source": [
    "# python 3.10.11"
   ]
  },
  {
   "cell_type": "markdown",
   "metadata": {},
   "source": [
    "This file handles the ETL process from the TMDB API to a local SQLite database.  \n",
    "The workflow follows the medallion architecture of bronze, silver and gold(optional) tables. "
   ]
  },
  {
   "cell_type": "code",
   "execution_count": 2,
   "metadata": {},
   "outputs": [],
   "source": [
    "# imports\n",
    "import calendar\n",
    "import json\n",
    "import math\n",
    "import os\n",
    "import sqlite3\n",
    "from datetime import datetime\n",
    "import matplotlib.pyplot as plt\n",
    "import numpy as np\n",
    "import pandas as pd\n",
    "import requests\n",
    "import seaborn as sns; sns.set()\n",
    "\n",
    "pd.set_option('display.max_columns', None) # show all columns of a dataframe\n",
    "np.set_printoptions(threshold=np.inf) # remove limits on displaying numpy arrays\n",
    "# pd.set_option('display.max_rows', None) # show all rows of a dataframe\n",
    "# pd.set_option('display.max_colwidth', 10000) # show full width of dataframe columns"
   ]
  },
  {
   "cell_type": "code",
   "execution_count": 3,
   "metadata": {},
   "outputs": [],
   "source": [
    "# variables\n",
    "from dotenv import load_dotenv\n",
    "load_dotenv('E:/CODING STUFF/# ALL_PROJECTS/YejiLab_final/backend/.env')\n",
    "api_key = os.environ.get(\"API_KEY\")\n",
    "base_url = \"https://api.themoviedb.org/3\"\n",
    "database = \"kb_movies.db\""
   ]
  },
  {
   "cell_type": "markdown",
   "metadata": {},
   "source": [
    "### Data Ingest"
   ]
  },
  {
   "cell_type": "code",
   "execution_count": 5,
   "metadata": {},
   "outputs": [
    {
     "data": {
      "text/html": [
       "<div>\n",
       "<style scoped>\n",
       "    .dataframe tbody tr th:only-of-type {\n",
       "        vertical-align: middle;\n",
       "    }\n",
       "\n",
       "    .dataframe tbody tr th {\n",
       "        vertical-align: top;\n",
       "    }\n",
       "\n",
       "    .dataframe thead th {\n",
       "        text-align: right;\n",
       "    }\n",
       "</style>\n",
       "<table border=\"1\" class=\"dataframe\">\n",
       "  <thead>\n",
       "    <tr style=\"text-align: right;\">\n",
       "      <th></th>\n",
       "      <th>id</th>\n",
       "      <th>name</th>\n",
       "    </tr>\n",
       "  </thead>\n",
       "  <tbody>\n",
       "    <tr>\n",
       "      <th>0</th>\n",
       "      <td>28</td>\n",
       "      <td>Action</td>\n",
       "    </tr>\n",
       "    <tr>\n",
       "      <th>1</th>\n",
       "      <td>12</td>\n",
       "      <td>Adventure</td>\n",
       "    </tr>\n",
       "    <tr>\n",
       "      <th>2</th>\n",
       "      <td>16</td>\n",
       "      <td>Animation</td>\n",
       "    </tr>\n",
       "    <tr>\n",
       "      <th>3</th>\n",
       "      <td>35</td>\n",
       "      <td>Comedy</td>\n",
       "    </tr>\n",
       "    <tr>\n",
       "      <th>4</th>\n",
       "      <td>80</td>\n",
       "      <td>Crime</td>\n",
       "    </tr>\n",
       "    <tr>\n",
       "      <th>5</th>\n",
       "      <td>99</td>\n",
       "      <td>Documentary</td>\n",
       "    </tr>\n",
       "    <tr>\n",
       "      <th>6</th>\n",
       "      <td>18</td>\n",
       "      <td>Drama</td>\n",
       "    </tr>\n",
       "    <tr>\n",
       "      <th>7</th>\n",
       "      <td>10751</td>\n",
       "      <td>Family</td>\n",
       "    </tr>\n",
       "    <tr>\n",
       "      <th>8</th>\n",
       "      <td>14</td>\n",
       "      <td>Fantasy</td>\n",
       "    </tr>\n",
       "    <tr>\n",
       "      <th>9</th>\n",
       "      <td>36</td>\n",
       "      <td>History</td>\n",
       "    </tr>\n",
       "    <tr>\n",
       "      <th>10</th>\n",
       "      <td>27</td>\n",
       "      <td>Horror</td>\n",
       "    </tr>\n",
       "    <tr>\n",
       "      <th>11</th>\n",
       "      <td>10402</td>\n",
       "      <td>Music</td>\n",
       "    </tr>\n",
       "    <tr>\n",
       "      <th>12</th>\n",
       "      <td>9648</td>\n",
       "      <td>Mystery</td>\n",
       "    </tr>\n",
       "    <tr>\n",
       "      <th>13</th>\n",
       "      <td>10749</td>\n",
       "      <td>Romance</td>\n",
       "    </tr>\n",
       "    <tr>\n",
       "      <th>14</th>\n",
       "      <td>878</td>\n",
       "      <td>Science Fiction</td>\n",
       "    </tr>\n",
       "    <tr>\n",
       "      <th>15</th>\n",
       "      <td>10770</td>\n",
       "      <td>TV Movie</td>\n",
       "    </tr>\n",
       "    <tr>\n",
       "      <th>16</th>\n",
       "      <td>53</td>\n",
       "      <td>Thriller</td>\n",
       "    </tr>\n",
       "    <tr>\n",
       "      <th>17</th>\n",
       "      <td>10752</td>\n",
       "      <td>War</td>\n",
       "    </tr>\n",
       "    <tr>\n",
       "      <th>18</th>\n",
       "      <td>37</td>\n",
       "      <td>Western</td>\n",
       "    </tr>\n",
       "  </tbody>\n",
       "</table>\n",
       "</div>"
      ],
      "text/plain": [
       "       id             name\n",
       "0      28           Action\n",
       "1      12        Adventure\n",
       "2      16        Animation\n",
       "3      35           Comedy\n",
       "4      80            Crime\n",
       "5      99      Documentary\n",
       "6      18            Drama\n",
       "7   10751           Family\n",
       "8      14          Fantasy\n",
       "9      36          History\n",
       "10     27           Horror\n",
       "11  10402            Music\n",
       "12   9648          Mystery\n",
       "13  10749          Romance\n",
       "14    878  Science Fiction\n",
       "15  10770         TV Movie\n",
       "16     53         Thriller\n",
       "17  10752              War\n",
       "18     37          Western"
      ]
     },
     "metadata": {},
     "output_type": "display_data"
    }
   ],
   "source": [
    "# Retrieve the list of all genres\n",
    "params={\n",
    "    \"api_key\": api_key\n",
    "    }\n",
    "response = requests.get(f\"{base_url}/genre/movie/list\", params=params)\n",
    "data = response.json()\n",
    "if response.status_code == 200:\n",
    "    genre_list = data['genres']\n",
    "else:\n",
    "    print(\"Error\", response.status_code, \"\\n\", response.text)\n",
    "\n",
    "df_genre = pd.DataFrame(genre_list)\n",
    "display(df_genre)"
   ]
  },
  {
   "cell_type": "code",
   "execution_count": 13,
   "metadata": {},
   "outputs": [],
   "source": [
    "# Store in the database as genre_list table\n",
    "with sqlite3.connect(database) as con:\n",
    "    df_genre.to_sql('genre_list', con, if_exists='replace', index=False)"
   ]
  },
  {
   "cell_type": "markdown",
   "metadata": {},
   "source": [
    "The TMDB API has a hard cap of 500 pages for any specific query.  \n",
    "To circumvent the 500 page limit, we can specify one month at a time. From current year going back to 1870.  \n",
    "<i>(the first movies are from the late 1800s: https://en.wikipedia.org/wiki/List_of_cinematic_firsts)</i>"
   ]
  },
  {
   "cell_type": "code",
   "execution_count": null,
   "metadata": {},
   "outputs": [],
   "source": [
    "# Retrieve all movies from the discovery list by specifiying the year and the month.\n",
    "# The range is from 1870 to current year.  (can take up to two hours to complete)\n",
    "\n",
    "all_movies = []\n",
    "year = datetime.today().year\n",
    "# year_stop = 1870\n",
    "year_stop = 2023\n",
    "\n",
    "\n",
    "# This function finds the total page count for a given query.\n",
    "# We find this value by making a query without specifying the page and retrieving 'total_pages' from the JSON response.\n",
    "def find_page_count(year, month):\n",
    "    last_day = calendar.monthrange(year, month)[1]\n",
    "    params={\n",
    "        \"api_key\": api_key,\n",
    "        \"year\": year,\n",
    "        \"primary_release_date.gte\": f\"{year}-{month:02d}-01\", \n",
    "        \"primary_release_date.lte\": f\"{year}-{month:02d}-{last_day}\" \n",
    "        }\n",
    "    response = requests.get(f\"{base_url}/discover/movie\", params=params)\n",
    "    data = response.json()\n",
    "    if response.status_code == 200:\n",
    "        return (data['total_pages'])\n",
    "    else:\n",
    "        print(f'Error {response.status_code}\"\\n\"{response.text}')\n",
    "\n",
    "# This function retrieves all movies for the specified month and year by looping through all the pages provided by the previous function\n",
    "def total_movies_year_month(year, month):\n",
    "    page_count = find_page_count(year, month)\n",
    "    \n",
    "    for i in range(1, page_count + 1):\n",
    "        last_day = calendar.monthrange(year, month)[1]\n",
    "        params={\n",
    "            \"api_key\": api_key,\n",
    "            \"year\": year,\n",
    "            \"page\":i,\n",
    "            \"primary_release_date.gte\": f\"{year}-{month:02d}-01\", \n",
    "            \"primary_release_date.lte\": f\"{year}-{month:02d}-{last_day}\" \n",
    "        }\n",
    "        response = requests.get(f\"{base_url}/discover/movie\", params=params)\n",
    "        data = response.json()\n",
    "        if response.status_code == 200:\n",
    "            if ('results' in data) and (data['results']):   # if there is a 'results' array in the json file and if that array is not empty\n",
    "                for movie in data['results']:\n",
    "                    title = movie.get('original_title', None)\n",
    "                    genres = movie.get('genre_ids', None)\n",
    "                    genres_name = [genre['name'] for genre in genre_list if genre['id'] in genres] # Convert the genre id to their associated names\n",
    "                    release_date = movie.get('release_date', None)\n",
    "                    rating = movie.get('vote_average', np.nan)\n",
    "                all_movies.append([title, genres_name, release_date, rating])\n",
    "        else:\n",
    "            print(f'Error {response.status_code} at year {year}, month {month}, page {i}\"\\n\"{response.text}')\n",
    "            break\n",
    "\n",
    "# Loop that calls our previous function for every month of every year.\n",
    "while year >= year_stop:\n",
    "    print(f'Retrieving for {year}')\n",
    "    for month in range(12,0,-1):\n",
    "        total_movies_year_month(year, month)\n",
    "    year -= 1\n",
    "\n",
    "print('Retrieval complete')"
   ]
  },
  {
   "cell_type": "code",
   "execution_count": 7,
   "metadata": {},
   "outputs": [
    {
     "data": {
      "text/html": [
       "<div>\n",
       "<style scoped>\n",
       "    .dataframe tbody tr th:only-of-type {\n",
       "        vertical-align: middle;\n",
       "    }\n",
       "\n",
       "    .dataframe tbody tr th {\n",
       "        vertical-align: top;\n",
       "    }\n",
       "\n",
       "    .dataframe thead th {\n",
       "        text-align: right;\n",
       "    }\n",
       "</style>\n",
       "<table border=\"1\" class=\"dataframe\">\n",
       "  <thead>\n",
       "    <tr style=\"text-align: right;\">\n",
       "      <th></th>\n",
       "      <th>title</th>\n",
       "      <th>genres</th>\n",
       "      <th>release_date</th>\n",
       "      <th>rating</th>\n",
       "    </tr>\n",
       "  </thead>\n",
       "  <tbody>\n",
       "    <tr>\n",
       "      <th>0</th>\n",
       "      <td>O Auto da Compadecida 2</td>\n",
       "      <td>Comedy</td>\n",
       "      <td>2024-12-25</td>\n",
       "      <td>0.0</td>\n",
       "    </tr>\n",
       "    <tr>\n",
       "      <th>1</th>\n",
       "      <td>與昆西的生活3</td>\n",
       "      <td>Adventure, Animation, Comedy, Science Fiction</td>\n",
       "      <td>2024-12-24</td>\n",
       "      <td>0.0</td>\n",
       "    </tr>\n",
       "    <tr>\n",
       "      <th>2</th>\n",
       "      <td>Theseus</td>\n",
       "      <td>Action, Adventure</td>\n",
       "      <td>2024-12-31</td>\n",
       "      <td>0.0</td>\n",
       "    </tr>\n",
       "    <tr>\n",
       "      <th>3</th>\n",
       "      <td>Fil Adımları</td>\n",
       "      <td>Adventure, Drama</td>\n",
       "      <td>2024-12-21</td>\n",
       "      <td>0.0</td>\n",
       "    </tr>\n",
       "    <tr>\n",
       "      <th>4</th>\n",
       "      <td>#Rats</td>\n",
       "      <td></td>\n",
       "      <td>2024-12-31</td>\n",
       "      <td>0.0</td>\n",
       "    </tr>\n",
       "    <tr>\n",
       "      <th>...</th>\n",
       "      <td>...</td>\n",
       "      <td>...</td>\n",
       "      <td>...</td>\n",
       "      <td>...</td>\n",
       "    </tr>\n",
       "    <tr>\n",
       "      <th>470</th>\n",
       "      <td>La Hess</td>\n",
       "      <td>Thriller</td>\n",
       "      <td>2024-01-03</td>\n",
       "      <td>0.0</td>\n",
       "    </tr>\n",
       "    <tr>\n",
       "      <th>471</th>\n",
       "      <td>Wisteria</td>\n",
       "      <td>Thriller</td>\n",
       "      <td>2024-01-19</td>\n",
       "      <td>0.0</td>\n",
       "    </tr>\n",
       "    <tr>\n",
       "      <th>472</th>\n",
       "      <td>I Would’ve Been Happy</td>\n",
       "      <td>Animation</td>\n",
       "      <td>2024-01-25</td>\n",
       "      <td>0.0</td>\n",
       "    </tr>\n",
       "    <tr>\n",
       "      <th>473</th>\n",
       "      <td>Dietroit</td>\n",
       "      <td>Drama</td>\n",
       "      <td>2024-01-07</td>\n",
       "      <td>0.0</td>\n",
       "    </tr>\n",
       "    <tr>\n",
       "      <th>474</th>\n",
       "      <td>2024</td>\n",
       "      <td>1</td>\n",
       "      <td>None</td>\n",
       "      <td>NaN</td>\n",
       "    </tr>\n",
       "  </tbody>\n",
       "</table>\n",
       "<p>475 rows × 4 columns</p>\n",
       "</div>"
      ],
      "text/plain": [
       "                       title                                         genres  \\\n",
       "0    O Auto da Compadecida 2                                         Comedy   \n",
       "1                    與昆西的生活3  Adventure, Animation, Comedy, Science Fiction   \n",
       "2                    Theseus                              Action, Adventure   \n",
       "3               Fil Adımları                               Adventure, Drama   \n",
       "4                      #Rats                                                  \n",
       "..                       ...                                            ...   \n",
       "470                  La Hess                                       Thriller   \n",
       "471                 Wisteria                                       Thriller   \n",
       "472    I Would’ve Been Happy                                      Animation   \n",
       "473                 Dietroit                                          Drama   \n",
       "474                     2024                                              1   \n",
       "\n",
       "    release_date  rating  \n",
       "0     2024-12-25     0.0  \n",
       "1     2024-12-24     0.0  \n",
       "2     2024-12-31     0.0  \n",
       "3     2024-12-21     0.0  \n",
       "4     2024-12-31     0.0  \n",
       "..           ...     ...  \n",
       "470   2024-01-03     0.0  \n",
       "471   2024-01-19     0.0  \n",
       "472   2024-01-25     0.0  \n",
       "473   2024-01-07     0.0  \n",
       "474         None     NaN  \n",
       "\n",
       "[475 rows x 4 columns]"
      ]
     },
     "metadata": {},
     "output_type": "display_data"
    }
   ],
   "source": [
    "# Store the data in a dataframe\n",
    "df = pd.DataFrame(all_movies)\n",
    "df.columns=['title', 'genres', 'release_date', 'rating']\n",
    "\n",
    "# convert the 'genres' column to concatenated strings rather than an array (this is because we cannot upload arrays to SQLite)\n",
    "def flatten_array(cell):\n",
    "    if isinstance(cell,list):\n",
    "        return ', '.join(str(elem) for elem in cell)\n",
    "    else:\n",
    "        return str(cell)\n",
    "\n",
    "df['genres'] = df['genres'].apply(flatten_array)\n",
    "\n",
    "display(df)"
   ]
  },
  {
   "cell_type": "code",
   "execution_count": 19,
   "metadata": {},
   "outputs": [
    {
     "data": {
      "text/plain": [
       "41807"
      ]
     },
     "execution_count": 19,
     "metadata": {},
     "output_type": "execute_result"
    }
   ],
   "source": [
    "# Save to local database as the bronze table\n",
    "with sqlite3.connect(database) as con:\n",
    "    df.to_sql('movies_bronze', con, if_exists='replace', index=False)"
   ]
  },
  {
   "cell_type": "markdown",
   "metadata": {},
   "source": [
    "### Data Cleaning"
   ]
  },
  {
   "cell_type": "code",
   "execution_count": 10,
   "metadata": {},
   "outputs": [
    {
     "data": {
      "text/html": [
       "<div>\n",
       "<style scoped>\n",
       "    .dataframe tbody tr th:only-of-type {\n",
       "        vertical-align: middle;\n",
       "    }\n",
       "\n",
       "    .dataframe tbody tr th {\n",
       "        vertical-align: top;\n",
       "    }\n",
       "\n",
       "    .dataframe thead th {\n",
       "        text-align: right;\n",
       "    }\n",
       "</style>\n",
       "<table border=\"1\" class=\"dataframe\">\n",
       "  <thead>\n",
       "    <tr style=\"text-align: right;\">\n",
       "      <th></th>\n",
       "      <th>title</th>\n",
       "      <th>genres</th>\n",
       "      <th>release_date</th>\n",
       "      <th>rating</th>\n",
       "    </tr>\n",
       "  </thead>\n",
       "  <tbody>\n",
       "    <tr>\n",
       "      <th>0</th>\n",
       "      <td>The Magnificent Raiders of Dimension War One</td>\n",
       "      <td>Fantasy</td>\n",
       "      <td>2024-12-21</td>\n",
       "      <td>0.0</td>\n",
       "    </tr>\n",
       "    <tr>\n",
       "      <th>1</th>\n",
       "      <td>¿Quién es quién?</td>\n",
       "      <td>Comedy, Family</td>\n",
       "      <td>2024-12-05</td>\n",
       "      <td>0.0</td>\n",
       "    </tr>\n",
       "    <tr>\n",
       "      <th>2</th>\n",
       "      <td>Dev 47</td>\n",
       "      <td>Drama, Family</td>\n",
       "      <td>2024-12-20</td>\n",
       "      <td>0.0</td>\n",
       "    </tr>\n",
       "    <tr>\n",
       "      <th>3</th>\n",
       "      <td>Chemical India</td>\n",
       "      <td>Drama</td>\n",
       "      <td>2024-12-31</td>\n",
       "      <td>0.0</td>\n",
       "    </tr>\n",
       "    <tr>\n",
       "      <th>4</th>\n",
       "      <td>Al otro barrio</td>\n",
       "      <td>Comedy</td>\n",
       "      <td>2024-12-05</td>\n",
       "      <td>0.0</td>\n",
       "    </tr>\n",
       "    <tr>\n",
       "      <th>...</th>\n",
       "      <td>...</td>\n",
       "      <td>...</td>\n",
       "      <td>...</td>\n",
       "      <td>...</td>\n",
       "    </tr>\n",
       "    <tr>\n",
       "      <th>41802</th>\n",
       "      <td>1870</td>\n",
       "      <td>5</td>\n",
       "      <td>None</td>\n",
       "      <td>NaN</td>\n",
       "    </tr>\n",
       "    <tr>\n",
       "      <th>41803</th>\n",
       "      <td>1870</td>\n",
       "      <td>4</td>\n",
       "      <td>None</td>\n",
       "      <td>NaN</td>\n",
       "    </tr>\n",
       "    <tr>\n",
       "      <th>41804</th>\n",
       "      <td>1870</td>\n",
       "      <td>3</td>\n",
       "      <td>None</td>\n",
       "      <td>NaN</td>\n",
       "    </tr>\n",
       "    <tr>\n",
       "      <th>41805</th>\n",
       "      <td>1870</td>\n",
       "      <td>2</td>\n",
       "      <td>None</td>\n",
       "      <td>NaN</td>\n",
       "    </tr>\n",
       "    <tr>\n",
       "      <th>41806</th>\n",
       "      <td>1870</td>\n",
       "      <td>1</td>\n",
       "      <td>None</td>\n",
       "      <td>NaN</td>\n",
       "    </tr>\n",
       "  </tbody>\n",
       "</table>\n",
       "<p>41807 rows × 4 columns</p>\n",
       "</div>"
      ],
      "text/plain": [
       "                                              title          genres  \\\n",
       "0      The Magnificent Raiders of Dimension War One         Fantasy   \n",
       "1                                  ¿Quién es quién?  Comedy, Family   \n",
       "2                                            Dev 47   Drama, Family   \n",
       "3                                    Chemical India           Drama   \n",
       "4                                    Al otro barrio          Comedy   \n",
       "...                                             ...             ...   \n",
       "41802                                          1870               5   \n",
       "41803                                          1870               4   \n",
       "41804                                          1870               3   \n",
       "41805                                          1870               2   \n",
       "41806                                          1870               1   \n",
       "\n",
       "      release_date  rating  \n",
       "0       2024-12-21     0.0  \n",
       "1       2024-12-05     0.0  \n",
       "2       2024-12-20     0.0  \n",
       "3       2024-12-31     0.0  \n",
       "4       2024-12-05     0.0  \n",
       "...            ...     ...  \n",
       "41802         None     NaN  \n",
       "41803         None     NaN  \n",
       "41804         None     NaN  \n",
       "41805         None     NaN  \n",
       "41806         None     NaN  \n",
       "\n",
       "[41807 rows x 4 columns]"
      ]
     },
     "metadata": {},
     "output_type": "display_data"
    },
    {
     "name": "stdout",
     "output_type": "stream",
     "text": [
      "<class 'pandas.core.frame.DataFrame'>\n",
      "RangeIndex: 41807 entries, 0 to 41806\n",
      "Data columns (total 4 columns):\n",
      " #   Column        Non-Null Count  Dtype  \n",
      "---  ------        --------------  -----  \n",
      " 0   title         41807 non-null  object \n",
      " 1   genres        41807 non-null  object \n",
      " 2   release_date  39947 non-null  object \n",
      " 3   rating        39947 non-null  float64\n",
      "dtypes: float64(1), object(3)\n",
      "memory usage: 1.3+ MB\n",
      "\n",
      "Null values :\n",
      "title              0\n",
      "genres             0\n",
      "release_date    1860\n",
      "rating          1860\n",
      "dtype: int64\n",
      "\n",
      "Number of duplicates is: 0\n"
     ]
    }
   ],
   "source": [
    "# Load the bronze table from the SQL database and store into a dataframe\n",
    "with sqlite3.connect(database) as con:\n",
    "    df = pd.read_sql_query(\"SELECT * FROM movies_bronze\", con)\n",
    "\n",
    "\n",
    "# display summary stats\n",
    "display(df)\n",
    "df.info()\n",
    "\n",
    "# view null values\n",
    "print('\\nNull values :')\n",
    "print(df.isna().sum())\n",
    "\n",
    "# view number of duplicates\n",
    "print('\\nNumber of duplicates is:', df.duplicated().sum())\n"
   ]
  },
  {
   "cell_type": "code",
   "execution_count": 11,
   "metadata": {},
   "outputs": [
    {
     "name": "stdout",
     "output_type": "stream",
     "text": [
      "<class 'pandas.core.frame.DataFrame'>\n",
      "RangeIndex: 39947 entries, 0 to 39946\n",
      "Data columns (total 4 columns):\n",
      " #   Column        Non-Null Count  Dtype  \n",
      "---  ------        --------------  -----  \n",
      " 0   title         39947 non-null  object \n",
      " 1   genres        39947 non-null  object \n",
      " 2   release_date  39947 non-null  object \n",
      " 3   rating        39947 non-null  float64\n",
      "dtypes: float64(1), object(3)\n",
      "memory usage: 1.2+ MB\n"
     ]
    },
    {
     "data": {
      "text/plain": [
       "title               0\n",
       "genres          10013\n",
       "release_date        0\n",
       "rating              0\n",
       "dtype: int64"
      ]
     },
     "metadata": {},
     "output_type": "display_data"
    }
   ],
   "source": [
    "# Drop all rows that have null values\n",
    "df.dropna(inplace=True)\n",
    "df.reset_index(drop=True, inplace=True) # reset index\n",
    "df.info()\n",
    "\n",
    "# Some entries may not be null, but might instead contain ''. Let's look for those using a mask:\n",
    "mask = (df == '').any(axis=1)\n",
    "display(df[mask].eq('').sum())\n"
   ]
  },
  {
   "cell_type": "markdown",
   "metadata": {},
   "source": [
    "After dropping all the detected nulls, there are still thousands of empty strings for the 'genres' column.   \n",
    "Rather than remove those rows, let's replace the empty strings with something more descriptive such as the word '_Unknown'. (we add the underscore to make sure it shows as the last column.)"
   ]
  },
  {
   "cell_type": "code",
   "execution_count": 12,
   "metadata": {},
   "outputs": [
    {
     "data": {
      "text/plain": [
       "title           0\n",
       "genres          0\n",
       "release_date    0\n",
       "rating          0\n",
       "dtype: int64"
      ]
     },
     "metadata": {},
     "output_type": "display_data"
    }
   ],
   "source": [
    "# Replace every occurence of '' with 'Unknown'\n",
    "df['genres'] = df['genres'].replace('', '_Unknown')\n",
    "\n",
    "# verify the replacement was successful\n",
    "display(df[mask].eq('').sum())"
   ]
  },
  {
   "cell_type": "code",
   "execution_count": 47,
   "metadata": {},
   "outputs": [],
   "source": [
    "# Save to local database as the silver table \n",
    "with sqlite3.connect(database) as con:\n",
    "    df.to_sql('movies_silver', con, if_exists='replace', index=False)\n"
   ]
  },
  {
   "cell_type": "markdown",
   "metadata": {},
   "source": [
    "(Optional) Assuming this pipeline involves data analysts and data scientists, I can further refine the table to make it easy for aggregations and machine learning tasks.  \n",
    "Let's perform one-hot encoding on the 'genres' column."
   ]
  },
  {
   "cell_type": "code",
   "execution_count": 4,
   "metadata": {},
   "outputs": [],
   "source": [
    "# Load the silver table into a dataframe\n",
    "with sqlite3.connect(database) as con:\n",
    "    df = pd.read_sql_query(\"SELECT * FROM movies_silver\", con)\n",
    "\n",
    "\n",
    "# Perform one hot encoding on the 'genres' column\n",
    "df2 = df['genres'].str.split(',').explode().str.strip().str.get_dummies().groupby(level=0).sum() # when creating the dummies, we also need to group the categories and strip the whitespaces.\n",
    "df = pd.concat([df,df2], axis=1) # join the new dataframe to the initial one\n",
    "\n",
    "# drop the redundant 'genres' column\n",
    "df = df.drop('genres', axis=1)\n",
    "\n",
    "display(df)"
   ]
  },
  {
   "cell_type": "code",
   "execution_count": 14,
   "metadata": {},
   "outputs": [
    {
     "data": {
      "image/png": "[encoded data removed]",
      "text/plain": [
       "<Figure size 1500x500 with 1 Axes>"
      ]
     },
     "metadata": {},
     "output_type": "display_data"
    },
    {
     "data": {
      "image/png": "[encoded data removed]",
      "text/plain": [
       "<Figure size 1000x300 with 1 Axes>"
      ]
     },
     "metadata": {},
     "output_type": "display_data"
    }
   ],
   "source": [
    "# We can now perform a more thorough EDA\n",
    "sum_genres = df.iloc[:, 3:(df.shape[1]-1)].sum(axis=0).sort_values(ascending=True)   # Select all genres by selecting the 4th column until the second to last (we want to exclude the last column which is '_Unknown')\n",
    "_=plt.figure(figsize=(15, 5)) \n",
    "_=plt.barh(sum_genres.index, sum_genres.values, color='green')\n",
    "_=plt.xlabel('Count')\n",
    "_=plt.ylabel('Genre')\n",
    "_=plt.title('Popularity of movie genres for the last 150 years')\n",
    "\n",
    "_=plt.figure(figsize=(10, 3)) \n",
    "_=sns.histplot(df['rating'], bins=10)\n",
    "_=plt.xlabel('Count')\n",
    "_=plt.ylabel('Rating')\n",
    "_=plt.title('Distribution of ratings for movies in the last 150 years')"
   ]
  },
  {
   "cell_type": "markdown",
   "metadata": {},
   "source": [
    "Ignoring the unknowns, the most popular movie genre is Drama.  \n",
    "It also seems like we have a lot of null values for ratings, they could be missing entries.  \n",
    "Let's view the rating distribution again without the zeroes."
   ]
  },
  {
   "cell_type": "code",
   "execution_count": 56,
   "metadata": {},
   "outputs": [
    {
     "data": {
      "image/png": "[encoded data removed]",
      "text/plain": [
       "<Figure size 1000x300 with 1 Axes>"
      ]
     },
     "metadata": {},
     "output_type": "display_data"
    }
   ],
   "source": [
    "_=plt.figure(figsize=(10, 3)) \n",
    "_=sns.histplot(df.loc[df['rating'] > 0, 'rating'], bins=10, binwidth=1)\n",
    "_=plt.xlabel('Ratings')\n",
    "_=plt.ylabel('Count')\n",
    "_=plt.title('Distribution of ratings for movies in the last 150 years')"
   ]
  },
  {
   "cell_type": "markdown",
   "metadata": {},
   "source": [
    "We see now that the ratings follow a bell curve. Let's save this new table as a gold table."
   ]
  },
  {
   "cell_type": "code",
   "execution_count": 57,
   "metadata": {},
   "outputs": [],
   "source": [
    "# Save to local database as a gold table\n",
    "with sqlite3.connect(database) as con:\n",
    "    df.to_sql('movies_gold', con, if_exists='replace', index=False)"
   ]
  },
  {
   "cell_type": "markdown",
   "metadata": {},
   "source": [
    "Lastly, let's add an empty bookmarks table to the databse. It will be populated by the API calls from our Flask app."
   ]
  },
  {
   "cell_type": "code",
   "execution_count": 22,
   "metadata": {},
   "outputs": [],
   "source": [
    "# Make an empty bookmarks table:\n",
    "with sqlite3.connect(database) as con:\n",
    "    df = pd.DataFrame(columns=['title', 'genres', 'release_date', 'rating'])\n",
    "    df.to_sql('movies_bookmarks', con, if_exists='ignore', index=False)"
   ]
  },
  {
   "cell_type": "code",
   "execution_count": 25,
   "metadata": {},
   "outputs": [
    {
     "data": {
      "text/html": [
       "<div>\n",
       "<style scoped>\n",
       "    .dataframe tbody tr th:only-of-type {\n",
       "        vertical-align: middle;\n",
       "    }\n",
       "\n",
       "    .dataframe tbody tr th {\n",
       "        vertical-align: top;\n",
       "    }\n",
       "\n",
       "    .dataframe thead th {\n",
       "        text-align: right;\n",
       "    }\n",
       "</style>\n",
       "<table border=\"1\" class=\"dataframe\">\n",
       "  <thead>\n",
       "    <tr style=\"text-align: right;\">\n",
       "      <th></th>\n",
       "      <th>title</th>\n",
       "      <th>genres</th>\n",
       "      <th>release_date</th>\n",
       "      <th>rating</th>\n",
       "    </tr>\n",
       "  </thead>\n",
       "  <tbody>\n",
       "  </tbody>\n",
       "</table>\n",
       "</div>"
      ],
      "text/plain": [
       "Empty DataFrame\n",
       "Columns: [title, genres, release_date, rating]\n",
       "Index: []"
      ]
     },
     "metadata": {},
     "output_type": "display_data"
    }
   ],
   "source": [
    "# # View bookmarks table\n",
    "\n",
    "# database ='kb_movies.db'\n",
    "# with sqlite3.connect(database) as con:\n",
    "#     df_bookmarks = pd.read_sql_query(f'''\n",
    "#         SELECT * \n",
    "#         FROM movies_bookmarks;\n",
    "#     ''',con)\n",
    "# display(df_bookmarks)"
   ]
  },
  {
   "cell_type": "code",
   "execution_count": 18,
   "metadata": {},
   "outputs": [],
   "source": [
    "# Drop the bookmarks table\n",
    "# with sqlite3.connect(database) as con:\n",
    "#     con.execute(f'''\n",
    "#         DROP TABLE IF EXISTS movies_bookmarks\n",
    "#         ''')"
   ]
  }
 ],
 "metadata": {
  "kernelspec": {
   "display_name": "Python 3",
   "language": "python",
   "name": "python3"
  },
  "language_info": {
   "codemirror_mode": {
    "name": "ipython",
    "version": 3
   },
   "file_extension": ".py",
   "mimetype": "text/x-python",
   "name": "python",
   "nbconvert_exporter": "python",
   "pygments_lexer": "ipython3",
   "version": "3.10.11"
  }
 },
 "nbformat": 4,
 "nbformat_minor": 2
}
